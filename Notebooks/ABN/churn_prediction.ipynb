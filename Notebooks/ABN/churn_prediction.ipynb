{
 "cells": [
  {
   "cell_type": "code",
   "execution_count": 1,
   "metadata": {},
   "outputs": [],
   "source": [
    "import numpy as np\n",
    "import pandas as pd\n",
    "from metadata import data_type\n",
    "from src.pipe_store import set_data_types\n",
    "\n",
    "%load_ext autoreload\n",
    "%autoreload 2"
   ]
  },
  {
   "cell_type": "code",
   "execution_count": 2,
   "metadata": {},
   "outputs": [],
   "source": [
    "def data_parser_o(x):\n",
    "    refrence_month = pd.to_datetime('2011-1-1').to_period('M')\n",
    "    trans_month = pd.to_datetime(x, format='%Y%m').to_period('M')\n",
    "    return ( trans_month - refrence_month).n #n captures the month number\n",
    "\n",
    "data_parser = lambda x: pd.to_datetime(x, format='%Y%m')"
   ]
  },
  {
   "cell_type": "code",
   "execution_count": 3,
   "metadata": {},
   "outputs": [
    {
     "name": "stderr",
     "output_type": "stream",
     "text": [
      "Step: set_data_types | Shape: (100056, 28) | Computation Time: 0.123764s\n"
     ]
    }
   ],
   "source": [
    "data_path = '/Users/Danial/Downloads/assesment_file2_churn.csv'\n",
    "df = (\n",
    "    pd.read_csv(data_path, sep=';', parse_dates=['MONTH_PERIOD'], date_parser=data_parser)\n",
    "    .pipe(set_data_types, data_type)\n",
    ")\n",
    "\n",
    "# df.MONTH_PERIOD = df.MONTH_PERIOD.apply(lambda x: (x - pd.to_datetime('2011-1-1').to_period('M')).n)"
   ]
  },
  {
   "cell_type": "code",
   "execution_count": null,
   "metadata": {},
   "outputs": [],
   "source": [
    "df['INSURANCE_NONLIFE_IND'].unique()"
   ]
  },
  {
   "cell_type": "code",
   "execution_count": 6,
   "metadata": {},
   "outputs": [
    {
     "data": {
      "text/plain": [
       "100056"
      ]
     },
     "execution_count": 6,
     "metadata": {},
     "output_type": "execute_result"
    }
   ],
   "source": [
    "len(df.CUSTOMER_ID.unique()) * 24"
   ]
  },
  {
   "cell_type": "markdown",
   "metadata": {},
   "source": [
    "# Feature Selection"
   ]
  },
  {
   "cell_type": "code",
   "execution_count": null,
   "metadata": {},
   "outputs": [],
   "source": [
    "from sklearn.feature_selection import VarianceThreshold\n",
    "selector = VarianceThreshold()\n",
    "selector.fit_transform(df.drop('MONTH_PERIOD', axis=1))"
   ]
  },
  {
   "cell_type": "code",
   "execution_count": null,
   "metadata": {},
   "outputs": [],
   "source": [
    "df.CROSS_SELL_SCORE.unique()\n",
    "df.CREDIT_CLASS.unique()\n",
    "df.DEBIT_CLASS.unique()\n",
    "df.BUSINESS_VOLUME_CLASS.unique()\n",
    "df.INVESTED_CAPITAL_CLASS.unique()\n",
    "df.CLIENTGROUP.unique()\n",
    "df.ACCOUNTMODEL.unique() # has nan values\n",
    "# variables with zero variance to be discarded\n",
    "df.Record_Count.unique() # 0 Variance to be discarded\n",
    "df.TARGET.unique() #  0 Variance to be discarded\n",
    "\n"
   ]
  },
  {
   "cell_type": "code",
   "execution_count": null,
   "metadata": {},
   "outputs": [],
   "source": [
    "df.groupby('CUSTOMER_ID').ACCOUNTMODEL.value_counts() # Interesting variable as the model changes after some time\n",
    "df[df.CUSTOMER_ID == 1276999][['MONTH_PERIOD', 'ACCOUNTMODEL']].head()"
   ]
  },
  {
   "cell_type": "code",
   "execution_count": null,
   "metadata": {},
   "outputs": [],
   "source": []
  },
  {
   "cell_type": "code",
   "execution_count": null,
   "metadata": {},
   "outputs": [],
   "source": [
    "from datetime import datetime\n",
    "import numpy as np\n"
   ]
  },
  {
   "cell_type": "code",
   "execution_count": null,
   "metadata": {},
   "outputs": [],
   "source": [
    "df.groupby('CUSTOMER_ID').Record_Count.value_counts() # Interesting variable as the model changes after some time"
   ]
  },
  {
   "cell_type": "code",
   "execution_count": null,
   "metadata": {},
   "outputs": [],
   "source": [
    "df.columns"
   ]
  },
  {
   "cell_type": "code",
   "execution_count": null,
   "metadata": {},
   "outputs": [],
   "source": [
    "# churned_clients = df[df['CHURNED_IND'] == 1].CUSTOMER_ID.unique()\n",
    "com_churned_clients = df[df['COMMERCIALLY_CHURNED'] == 1].CUSTOMER_ID.unique()\n"
   ]
  },
  {
   "cell_type": "code",
   "execution_count": null,
   "metadata": {},
   "outputs": [],
   "source": [
    "\n",
    "df_ = df[df.CUSTOMER_ID == churned_clients[8]].sort_values(by='MONTH_PERIOD', ascending=False)\n",
    "df_[['MONTH_PERIOD', 'CHURNED_IND', 'COMMERCIALLY_CHURNED']]"
   ]
  },
  {
   "cell_type": "code",
   "execution_count": null,
   "metadata": {},
   "outputs": [],
   "source": []
  }
 ],
 "metadata": {
  "kernelspec": {
   "display_name": "Python 3.8.6 64-bit",
   "language": "python",
   "name": "python3"
  },
  "language_info": {
   "codemirror_mode": {
    "name": "ipython",
    "version": 3
   },
   "file_extension": ".py",
   "mimetype": "text/x-python",
   "name": "python",
   "nbconvert_exporter": "python",
   "pygments_lexer": "ipython3",
   "version": "3.8.6"
  },
  "orig_nbformat": 4,
  "vscode": {
   "interpreter": {
    "hash": "949777d72b0d2535278d3dc13498b2535136f6dfe0678499012e853ee9abcab1"
   }
  }
 },
 "nbformat": 4,
 "nbformat_minor": 2
}
