{
 "cells": [
  {
   "cell_type": "code",
   "execution_count": 1,
   "metadata": {},
   "outputs": [],
   "source": [
    "import numpy as np\n",
    "import pandas as pd\n",
    "from metadata import data_type\n",
    "from src.pipe_store import (\n",
    "    data_loader,\n",
    "    date_parser,\n",
    "    clean_string_strip,\n",
    "    set_data_types,\n",
    "    integer_encoder,\n",
    "    sort_values_per_client,\n",
    "    datetime2int,\n",
    "    one_hot_encoder,\n",
    ")\n",
    "\n",
    "%load_ext autoreload\n",
    "%autoreload 2"
   ]
  },
  {
   "cell_type": "code",
   "execution_count": 2,
   "metadata": {},
   "outputs": [
    {
     "name": "stderr",
     "output_type": "stream",
     "text": [
      "Step: data_loader | Shape: (100056, 28) | Computation Time: 0.62821s\n",
      "Step: set_data_types | Shape: (100056, 28) | Computation Time: 0.159731s\n",
      "Step: clean_string_strip | Shape: (100056, 28) | Computation Time: 0.005075s\n",
      "Step: sort_values_per_client | Shape: (100056, 28) | Computation Time: 22.736606s\n"
     ]
    }
   ],
   "source": [
    "data_path = '/Users/Danial/Downloads/assesment_file2_churn.csv'\n",
    "df = (\n",
    "    data_loader(data_path, parse_dates=['MONTH_PERIOD'], date_parser=date_parser)\n",
    "    .pipe(set_data_types, data_type)\n",
    "    .pipe(clean_string_strip, 'AGE_CLASS', 'HOMEBANK_COLOUR', 'LOYALITY')\n",
    "    .pipe(sort_values_per_client, 'MONTH_PERIOD')\n",
    ")\n",
    "\n",
    "\n",
    "# df.MONTH_PERIOD = df.MONTH_PERIOD.apply(lambda x: (x - pd.to_datetime('2011-1-1').to_period('M')).n)"
   ]
  },
  {
   "cell_type": "markdown",
   "metadata": {},
   "source": [
    "# Missing Values\n",
    "Variables with missing values are: ACCOUNTMODEL, AGE_CLASS, HOMEBANK_COLOUR, LOYALITY\n",
    "\n",
    "Missing Completely at Random (MCAR)-> random sampling from variable distribution\n",
    "\n",
    "Missing at Random (MAR)-> random sampling from variable distribution or predict missing class via Logistic Regression\n",
    "\n",
    "Missing not at Random (MNAR): Should not be imputed\n",
    "\n",
    "### Adopted Strategy\n",
    "\n",
    "Consider all the missingess as MNAR and "
   ]
  },
  {
   "cell_type": "code",
   "execution_count": null,
   "metadata": {},
   "outputs": [],
   "source": [
    "col_with_missing = ['ACCOUNTMODEL', 'AGE_CLASS', 'HOMEBANK_COLOUR', 'LOYALITY']\n",
    "for col in col_with_missing:\n",
    "    print(f'Column:{col}, missingness: {df[col].isna().sum() * 100 / len(df): 0.3} %')"
   ]
  },
  {
   "cell_type": "code",
   "execution_count": null,
   "metadata": {},
   "outputs": [],
   "source": [
    "# def impute_age_class(df):\n",
    "#     df_imp = df.copy(deep=True)\n",
    "#     df_imp.AGE_CLASS = df_imp.AGE_CLASS.replace('Leeftijd_onbekend', np.NAN)\n",
    "#     ids_age_nan = df_imp[df_imp.AGE_CLASS.isna()].CUSTOMER_ID.unique()\n",
    "#     for id in ids_age_nan:\n",
    "#         ind = df_imp.CUSTOMER_ID.eq(id)\n",
    "#         filled = df_imp[ind].AGE_CLASS.fillna(method='backfill')\n",
    "#         if not filled.isna().sum():\n",
    "#             filled = df_imp[ind].AGE_CLASS.fillna(method='ffill')\n",
    "#         df_imp.loc[ind ,'AGE_CLASS'] = filled\n",
    "#     return df_imp\n",
    "# df_imp = impute_age_class(df)"
   ]
  },
  {
   "cell_type": "code",
   "execution_count": null,
   "metadata": {},
   "outputs": [],
   "source": [
    "# (df.AGE_CLASS.value_counts(normalize=True) * 100).plot.bar()"
   ]
  },
  {
   "cell_type": "code",
   "execution_count": null,
   "metadata": {},
   "outputs": [],
   "source": [
    "# (df.ACCOUNTMODEL.value_counts(normalize=True) * 100).plot.bar();"
   ]
  },
  {
   "cell_type": "markdown",
   "metadata": {},
   "source": [
    "# EDA "
   ]
  },
  {
   "cell_type": "code",
   "execution_count": null,
   "metadata": {},
   "outputs": [],
   "source": [
    "from src.feature_selection import variable_variances, variable_variances_per_client\n",
    "variable_variances(df, include_label=False)\n",
    "# 'Record_Count', 'TARGET' should be discarded from the data set"
   ]
  },
  {
   "cell_type": "code",
   "execution_count": null,
   "metadata": {},
   "outputs": [],
   "source": [
    "var_client = variable_variances_per_client(df)\n",
    "# var_client.var()"
   ]
  },
  {
   "cell_type": "code",
   "execution_count": null,
   "metadata": {},
   "outputs": [],
   "source": [
    "var_client"
   ]
  },
  {
   "cell_type": "code",
   "execution_count": null,
   "metadata": {},
   "outputs": [],
   "source": [
    "var_client.MORTGAGE_IND.value_counts(normalize=True).plot.bar()"
   ]
  },
  {
   "cell_type": "code",
   "execution_count": null,
   "metadata": {},
   "outputs": [],
   "source": [
    "# churned_clients = var_client[var_client['CHURNED_IND'] != 0].index.tolist()\n",
    "# com_churned_clients = var_client[var_client['COMMERCIALLY_CHURNED'] != 0].index.tolist()\n",
    "# both_churned_label = var_client[(var_client['CHURNED_IND'] != 0) & (var_client['COMMERCIALLY_CHURNED'] != 0)].index.tolist()\n",
    "# either_churned_label = var_client[(var_client['CHURNED_IND'] != 0) | (var_client['COMMERCIALLY_CHURNED'] != 0)].index.tolist()\n",
    "# single_churned_label = var_client[(var_client['CHURNED_IND'] != 0) & (var_client['COMMERCIALLY_CHURNED'] == 0)].index.tolist()\n",
    "# single_churned_label_com = var_client[(var_client['CHURNED_IND'] == 0) & (var_client['COMMERCIALLY_CHURNED'] != 0)].index.tolist()\n",
    "# not_churned_clients = var_client[(var_client['CHURNED_IND'] == 0) & (var_client['COMMERCIALLY_CHURNED'] == 0)].index.tolist()"
   ]
  },
  {
   "cell_type": "markdown",
   "metadata": {},
   "source": [
    "# Feature Selection\n",
    "\n",
    "From previous section we know to drop: 'Record_Count', 'TARGET'"
   ]
  },
  {
   "cell_type": "markdown",
   "metadata": {},
   "source": [
    "### Univariate Correlation"
   ]
  },
  {
   "cell_type": "code",
   "execution_count": null,
   "metadata": {},
   "outputs": [],
   "source": [
    "from src.feature_selection import plot_corr_cat\n",
    "from sklearn.preprocessing import LabelEncoder\n",
    "df_corr = df_imp.copy(deep=True) \n",
    "encoding_cols = ['CLIENTGROUP', 'ACCOUNTMODEL', 'AGE_CLASS', 'HOMEBANK_COLOUR', 'LOYALITY']\n",
    "for col in encoding_cols:\n",
    "    encoder = LabelEncoder()\n",
    "    df_corr[col] = encoder.fit_transform(df_corr[col])"
   ]
  },
  {
   "cell_type": "code",
   "execution_count": null,
   "metadata": {},
   "outputs": [],
   "source": [
    "from sklearn.feature_selection import SelectKBest, chi2, f_classif\n",
    "col_drop = ['MONTH_PERIOD', 'Record_Count', 'TARGET', 'CHURNED_IND', 'COMMERCIALLY_CHURNED', 'CUSTOMER_ID', 'CROSS_SELL_SCORE']\n",
    "X, y1, y2 = df_corr.drop(col_drop, axis=1), df['CHURNED_IND'], df['COMMERCIALLY_CHURNED']\n",
    "k_best = SelectKBest(chi2, k=10).fit(X, y1)\n",
    "selected_cols = k_best.get_feature_names_out()\n",
    "selected_cols"
   ]
  },
  {
   "cell_type": "code",
   "execution_count": null,
   "metadata": {},
   "outputs": [],
   "source": [
    "# import matplotlib.pyplot as plt\n",
    "# from seaborn import  heatmap\n",
    "# corr_mat = df_corr.corr()\n",
    "# plt.figure(figsize=(12, 8))\n",
    "# heatmap(corr_mat, cmap='RdYlGn', annot=True)"
   ]
  },
  {
   "cell_type": "markdown",
   "metadata": {},
   "source": [
    "# Feature Engineering"
   ]
  },
  {
   "cell_type": "markdown",
   "metadata": {},
   "source": [
    "# Modelling"
   ]
  },
  {
   "cell_type": "markdown",
   "metadata": {},
   "source": [
    "## Time-to-Event Approach\n",
    "\n",
    "We need to ensure that time column \"MONTH_PERIOD\" is engineered to number of months after the start of observation/data collection\n",
    "df.MONTH_PERIOD = df.MONTH_PERIOD.apply(lambda x: (x.to_period('M') - pd.to_datetime('2011-1-1').to_period('M')).n)"
   ]
  },
  {
   "cell_type": "code",
   "execution_count": null,
   "metadata": {},
   "outputs": [],
   "source": [
    "# df_surv = df.copy(deep=True)\n",
    "# df_surv = df_surv.drop(['TARGET', 'Record_Count'], axis=1)\n",
    "\n",
    "# dfs = {}\n",
    "# for id in df_surv.CUSTOMER_ID.unique():\n",
    "#     df_id = df_surv[df_surv.CUSTOMER_ID.eq(id)].sort_values(by='MONTH_PERIOD', ascending=False)\n",
    "#     df_id = df_id.assign(\n",
    "#         start=df['MONTH_PERIOD'],\n",
    "#         stop=df['MONTH_PERIOD'] + 1,\n",
    "#         event=df['CHURNED_IND'].astype(bool),\n",
    "#         id=df['CUSTOMER_ID'],\n",
    "#     )\n",
    "#     slice_size = df_id.CHURNED_IND.lt(1).sum()\n",
    "#     # samples =  slice_size + 1 if slice_size < 24 \n",
    "#     dfs[id] = df_id.tail(slice_size + 1)\n",
    "# df_surv_final = (\n",
    "#     pd.concat([df.reset_index(drop=True) for id, df in dfs.items()])\n",
    "#     .drop(['CUSTOMER_ID', 'MONTH_PERIOD', 'CHURNED_IND', 'COMMERCIALLY_CHURNED'], axis=1)\n",
    "# )"
   ]
  },
  {
   "cell_type": "markdown",
   "metadata": {},
   "source": [
    "# Stacking"
   ]
  },
  {
   "cell_type": "code",
   "execution_count": null,
   "metadata": {},
   "outputs": [],
   "source": [
    "from collections import defaultdict\n",
    "churn_col = 'CHURNED_IND'\n",
    "horizon = 6 # Time horizon (Even number) to find dominant recent past states per column\n",
    "df_s = df.drop(['TARGET', 'Record_Count'], axis=1)\n",
    "bool_cols = [\n",
    "    'PAYMENT_IND', 'SAVING_IND', 'INVESTMENTS_IND', 'LENDING_IND', 'INSURANCE_LIFE_IND',\n",
    "    'INSURANCE_NONLIFE_IND', 'MORTGAGE_IND', 'PACKAGE_IND',]\n",
    "\n",
    "cat_cols = [\n",
    "    'CREDIT_CLASS', 'DEBIT_CLASS', 'INVESTED_CAPITAL_CLASS', 'SAVINGS_CAPITAL_CLASS', \n",
    "    'MIN_FEED_CLASS', 'REVENUES_CLASS', 'PAYMENT_ACTIVITIES_CODE',  'CLIENTGROUP', 'ACCOUNTMODEL',\n",
    "    'AGE_CLASS', 'HOMEBANK_COLOUR', 'LOYALITY',]\n",
    "\n",
    "num_cols = ['CROSS_SELL_SCORE',]\n",
    "\n",
    "_dics = defaultdict(lambda: defaultdict(dict))\n",
    "ids_skipped = []\n",
    "try:\n",
    "    for id in df_s.CUSTOMER_ID.unique():\n",
    "        df_id = (\n",
    "            df_s[df_s.CUSTOMER_ID.eq(id)]\n",
    "            .sort_values(by='MONTH_PERIOD', ascending=False)\n",
    "            .reset_index(drop=True)\n",
    "        )\n",
    "        # client switches active -> churn -> active \n",
    "        if df_id[churn_col].diff().abs().sum() > 1:\n",
    "            print(f'Client {id}, active -> churn -> active ')\n",
    "            ids_skipped.append(id)\n",
    "            continue\n",
    "        # client starts with churn status \n",
    "        if df_id[churn_col].values[-1]:\n",
    "            print(f'Client {id} churn -> active')\n",
    "            ids_skipped.append(id)\n",
    "            continue\n",
    "\n",
    "        if 1 in df_id[churn_col].values:\n",
    "            _dics[id]['event'] = 1\n",
    "            ind_lt_1 = df_id[churn_col].lt(1)\n",
    "            ind_churn = df_id[df_id[churn_col].lt(1)].index.min()\n",
    "            _dics[id]['churn_time'] = df_id.loc[ind_churn - 1, 'MONTH_PERIOD']\n",
    "            for col in set(df_id.columns) - { 'MONTH_PERIOD', 'CHURNED_IND', 'COMMERCIALLY_CHURNED', 'CUSTOMER_ID'}:\n",
    "                vals = df_id[ind_lt_1][col].values\n",
    "                _dics[id][col] = vals[0] # Most recent value\n",
    "                _dics[id][col + '_CHANGED'] = 1 if len(set(vals[1:horizon])) > 1 else 0\n",
    "                # _dics[id][col + '_PAST_STATE'] = lst[0] if len(lst[1:]) == 0 else max(vals[1:horizon], key=lst.count) # Most frequent value past horizon \n",
    "        else:\n",
    "            _dics[id]['event'] = 0\n",
    "            _dics[id]['churn_time'] = pd.to_datetime('2013-1-1')\n",
    "            for col in set(df_id.columns) - { 'MONTH_PERIOD', 'CHURNED_IND', 'COMMERCIALLY_CHURNED', 'CUSTOMER_ID'}:\n",
    "                vals = df_id[col].values\n",
    "                _dics[id][col] = vals[0] # Most recent value\n",
    "                _dics[id][col + '_CHANGED'] = 1 if len(set(vals[1:horizon])) > 1 else 0\n",
    "                # _dics[id][col + '_PAST_STATE'] = lst[0] if len(lst[1:]) == 0 else max(vals[1:horizon], key=lst.count) # Most frequent value past horizon \n",
    "        \n",
    "except:\n",
    "    print(id)\n",
    "\n",
    "df_red = pd.DataFrame(_dics).T.rename_axis('id').reset_index()"
   ]
  },
  {
   "cell_type": "code",
   "execution_count": null,
   "metadata": {},
   "outputs": [],
   "source": [
    "df_red"
   ]
  },
  {
   "cell_type": "markdown",
   "metadata": {},
   "source": [
    "### New dataset\n",
    "45 churn samples experienced either rechurn or rejoin. For the sake of avoiding bias these samples are removed frome the dataset."
   ]
  },
  {
   "cell_type": "code",
   "execution_count": null,
   "metadata": {},
   "outputs": [],
   "source": [
    "df_red = (\n",
    "    df_red\n",
    "    .pipe(datetime2int, 'churn_time')\n",
    "    .reset_index(drop=True)\n",
    "    .fillna('unknown')\n",
    ")\n",
    "len(ids_skipped)"
   ]
  },
  {
   "cell_type": "markdown",
   "metadata": {},
   "source": [
    "# Seasonality [pattern in churn time]"
   ]
  },
  {
   "cell_type": "code",
   "execution_count": null,
   "metadata": {},
   "outputs": [],
   "source": [
    "df_red[df_red.event == 1]['churn_time'].value_counts().sort_index().plot.bar()\n"
   ]
  },
  {
   "cell_type": "code",
   "execution_count": null,
   "metadata": {},
   "outputs": [],
   "source": [
    "# df_red.groupby('event')['PACKAGE_IND'].value_counts()\n",
    "df_red.columns"
   ]
  },
  {
   "cell_type": "code",
   "execution_count": null,
   "metadata": {},
   "outputs": [],
   "source": [
    "df_red['churn_time'] = df_red['churn_time'].astype('float16')\n",
    "df_red['event'] = df_red['event'].astype('float16')"
   ]
  },
  {
   "cell_type": "code",
   "execution_count": null,
   "metadata": {},
   "outputs": [],
   "source": [
    "from lifelines import KaplanMeierFitter, NelsonAalenFitter, WeibullFitter\n",
    "from lifelines.plotting import add_at_risk_counts\n",
    "import matplotlib.pyplot as plt\n",
    "%matplotlib inline\n",
    "\n",
    "def plot_churn_risk(df, col, estimator, ax=None, T:str='churn_time', E:str='event',  horizon=23, at_risk=False):\n",
    "    \"\"\" Plot univariate churn risk \"\"\"\n",
    "\n",
    "    if col not in df.columns:\n",
    "        raise KeyError(f'{col} not in data frame')\n",
    "    if not ax:\n",
    "        fig, ax = plt.subplots(figsize=(6, 5))\n",
    "    timeline = np.linspace(0, horizon, 1000)\n",
    "    vals = set(df[col].values)\n",
    "    estimators = [estimator(label=col.split('_')[0]+'_'+str(val)) for val in vals]\n",
    "    inds = [df_red[col] == val if str(val) != 'nan' else df_red[col].isna() for val in vals ]\n",
    "    estimators = [estimator.fit(df_red[inds[i]][T], df_red[inds[i]][E], timeline=timeline) \n",
    "                    for i, estimator in enumerate(estimators)]\n",
    "    # if type(estimator) in ['NelsonAalenFitter', 'WeibullFitter']:\n",
    "    for estimator in estimators:\n",
    "        estimator.plot(ci_show=False, ax=ax)\n",
    "    if at_risk:\n",
    "        add_at_risk_counts(*estimators, ax=ax, fontsize=10, rows_to_show=['At risk'])\n",
    "    ax.set_ylim(0.5)\n",
    "    ax.set_xlim([0, 23])\n",
    "    ax.set_xlabel('Months', fontsize=10)\n",
    "    ax.set_ylabel('Probability of Retention', fontsize=10)"
   ]
  },
  {
   "cell_type": "code",
   "execution_count": null,
   "metadata": {},
   "outputs": [],
   "source": [
    "bool_cols"
   ]
  },
  {
   "cell_type": "code",
   "execution_count": null,
   "metadata": {},
   "outputs": [],
   "source": [
    "fig, ax = plt.subplots(1, 2, figsize=(14, 4))\n",
    "# ('INSURANCE_LIFE_IND', 'INSURANCE_LIFE_IND'), ('MORTGAGE_IND', 'PACKAGE_IND'), ('INVESTMENTS_IND', 'LENDING_IND')\n",
    "for i, j in [('PAYMENT_IND', 'SAVING_IND')]: \n",
    "    plot_churn_risk(df_red, i, ax=ax[0], estimator=KaplanMeierFitter, at_risk=True)\n",
    "    plot_churn_risk(df_red, j, ax=ax[1], estimator=KaplanMeierFitter, at_risk=True)"
   ]
  },
  {
   "cell_type": "code",
   "execution_count": null,
   "metadata": {},
   "outputs": [],
   "source": [
    "# 'CREDIT_CLASS', 'DEBIT_CLASS', 'INVESTED_CAPITAL_CLASS', 'SAVINGS_CAPITAL_CLASS', \n",
    "# 'MIN_FEED_CLASS', 'REVENUES_CLASS', 'PAYMENT_ACTIVITIES_CODE', 'CROSS_SELL_SCORE', 'CLIENTGROUP', 'ACCOUNTMODEL',\n",
    "# 'AGE_CLASS', 'HOMEBANK_COLOUR', 'LOYALITY']\n",
    "fig, ax = plt.subplots(1,2, figsize=(14, 4))\n",
    "plot_churn_risk(df_red, 'HOMEBANK_COLOUR', ax=ax[0], estimator=KaplanMeierFitter, at_risk=True)\n",
    "plot_churn_risk(df_red, 'LOYALITY', ax=ax[1], estimator=KaplanMeierFitter, at_risk=True)"
   ]
  },
  {
   "cell_type": "code",
   "execution_count": null,
   "metadata": {},
   "outputs": [],
   "source": [
    "fig, ax = plt.subplots(1,2, figsize=(14, 4))\n",
    "# 'CREDIT_CLASS', 'DEBIT_CLASS', 'INVESTED_CAPITAL_CLASS', 'SAVINGS_CAPITAL_CLASS', \n",
    "# 'MIN_FEED_CLASS', 'REVENUES_CLASS', 'PAYMENT_ACTIVITIES_CODE', 'CROSS_SELL_SCORE', 'CLIENTGROUP', 'ACCOUNTMODEL',\n",
    "# 'AGE_CLASS', 'HOMEBANK_COLOUR', 'LOYALITY']\n",
    "plot_churn_risk(df_red, 'AGE_CLASS', ax=ax[0], estimator=KaplanMeierFitter, at_risk=True)\n",
    "plot_churn_risk(df_red, 'AGE_CLASS_CHANGED', ax=ax[1], estimator=KaplanMeierFitter, at_risk=True)"
   ]
  },
  {
   "cell_type": "code",
   "execution_count": null,
   "metadata": {},
   "outputs": [],
   "source": [
    "fig, ax = plt.subplots(1,2, figsize=(14, 4))\n",
    "plot_churn_risk(df_red, 'CREDIT_CLASS', ax=ax[0], estimator=KaplanMeierFitter, at_risk=True)\n",
    "plot_churn_risk(df_red, 'DEBIT_CLASS', ax=ax[1], estimator=KaplanMeierFitter, at_risk=True)"
   ]
  },
  {
   "cell_type": "code",
   "execution_count": null,
   "metadata": {},
   "outputs": [],
   "source": [
    "fig, ax = plt.subplots(1,2, figsize=(14, 4)) \n",
    "plot_churn_risk(df_red, 'INVESTED_CAPITAL_CLASS', ax=ax[0], estimator=KaplanMeierFitter, at_risk=True)\n",
    "plot_churn_risk(df_red, 'SAVINGS_CAPITAL_CLASS', ax=ax[1], estimator=KaplanMeierFitter, at_risk=True)"
   ]
  },
  {
   "cell_type": "code",
   "execution_count": null,
   "metadata": {},
   "outputs": [],
   "source": [
    "fig, ax = plt.subplots(1,2, figsize=(14, 4)) \n",
    "plot_churn_risk(df_red, 'MIN_FEED_CLASS', ax=ax[0], estimator=KaplanMeierFitter, at_risk=True)\n",
    "plot_churn_risk(df_red, 'REVENUES_CLASS', ax=ax[1], estimator=KaplanMeierFitter, at_risk=True)"
   ]
  },
  {
   "cell_type": "code",
   "execution_count": null,
   "metadata": {},
   "outputs": [],
   "source": [
    "# 'CLIENTGROUP', 'ACCOUNTMODEL',\n",
    "fig, ax = plt.subplots(1,2, figsize=(14, 4)) \n",
    "plot_churn_risk(df_red, 'PAYMENT_ACTIVITIES_CODE', ax=ax[0], estimator=KaplanMeierFitter, at_risk=True)\n",
    "plot_churn_risk(df_red, 'CROSS_SELL_SCORE', ax=ax[1], estimator=KaplanMeierFitter, at_risk=True)"
   ]
  },
  {
   "cell_type": "code",
   "execution_count": null,
   "metadata": {},
   "outputs": [],
   "source": [
    "fig, ax = plt.subplots(figsize=(8, 5)) \n",
    "plot_churn_risk(df_red, 'CLIENTGROUP', ax=ax, estimator=KaplanMeierFitter, at_risk=True)"
   ]
  },
  {
   "cell_type": "code",
   "execution_count": null,
   "metadata": {},
   "outputs": [],
   "source": [
    "# 0101: 13%, 0307:23 %,  0105: 42%\n"
   ]
  },
  {
   "cell_type": "code",
   "execution_count": null,
   "metadata": {},
   "outputs": [],
   "source": [
    "df_red.AGE_CLASS.unique()"
   ]
  },
  {
   "cell_type": "markdown",
   "metadata": {},
   "source": [
    "# Cox Partial Hazard Model"
   ]
  },
  {
   "cell_type": "code",
   "execution_count": null,
   "metadata": {},
   "outputs": [],
   "source": [
    "cat_cols = [\n",
    "    'CREDIT_CLASS', 'DEBIT_CLASS', 'INVESTED_CAPITAL_CLASS', 'SAVINGS_CAPITAL_CLASS', \n",
    "    'MIN_FEED_CLASS', 'REVENUES_CLASS', 'PAYMENT_ACTIVITIES_CODE', \n",
    "    # 'CROSS_SELL_SCORE', \n",
    "    'CLIENTGROUP', 'ACCOUNTMODEL', 'AGE_CLASS', 'HOMEBANK_COLOUR', 'LOYALITY']\n",
    "\n",
    "df_cox = (\n",
    "    df_red\n",
    "    .pipe(one_hot_encoder, *cat_cols)\n",
    "    [[\n",
    "        'event', 'churn_time', \n",
    "        'PAYMENT_IND',\n",
    "        'SAVING_IND',\n",
    "        # 'CREDIT_CLASS_0', \n",
    "        'CREDIT_CLASS_1', #\n",
    "        'CREDIT_CLASS_2',\n",
    "        # 'DEBIT_CLASS_0', #\n",
    "        # 'DEBIT_CLASS_1', #\n",
    "        # 'DEBIT_CLASS_2', #\n",
    "        'SAVINGS_CAPITAL_CLASS_0', #\n",
    "        'SAVINGS_CAPITAL_CLASS_2',\n",
    "        'INVESTED_CAPITAL_CLASS_0',\n",
    "        'MIN_FEED_CLASS_0', # \n",
    "        'MIN_FEED_CLASS_1',\n",
    "        'REVENUES_CLASS_3', #\n",
    "        'PAYMENT_ACTIVITIES_CODE_0', \n",
    "        # 'CLIENTGROUP_0105', #\n",
    "        'CLIENTGROUP_0307',\n",
    "        'CLIENTGROUP_0101', #\n",
    "        'CROSS_SELL_SCORE',  # 'CROSS_SELL_SCORE_0',\n",
    "        'AGE_CLASS_Leeftijd_onbekend', \n",
    "        'HOMEBANK_COLOUR_unknown', \n",
    "        'HOMEBANK_COLOUR_Rood',\n",
    "        'LOYALITY_unknown', \n",
    "        'LOYALITY_Rood', \n",
    "    ]]\n",
    ")"
   ]
  },
  {
   "cell_type": "code",
   "execution_count": null,
   "metadata": {},
   "outputs": [],
   "source": [
    "# from seaborn import heatmap \n",
    "# plt.figure(figsize=(10, 7))\n",
    "# heatmap(df_cox.corr(), cmap='RdYlGn')"
   ]
  },
  {
   "cell_type": "code",
   "execution_count": null,
   "metadata": {},
   "outputs": [],
   "source": [
    "df_cox.columns"
   ]
  },
  {
   "cell_type": "code",
   "execution_count": null,
   "metadata": {},
   "outputs": [],
   "source": [
    "from lifelines import CoxPHFitter\n",
    "cph = CoxPHFitter()\n",
    "cph.fit(df_cox, duration_col='churn_time', event_col='event')\n",
    "cph.print_summary() "
   ]
  },
  {
   "cell_type": "code",
   "execution_count": null,
   "metadata": {},
   "outputs": [],
   "source": [
    "df_cox"
   ]
  },
  {
   "cell_type": "code",
   "execution_count": null,
   "metadata": {},
   "outputs": [],
   "source": [
    "df_cox"
   ]
  },
  {
   "cell_type": "markdown",
   "metadata": {},
   "source": [
    "# Classifier"
   ]
  },
  {
   "cell_type": "code",
   "execution_count": null,
   "metadata": {},
   "outputs": [],
   "source": [
    "from sklearn.model_selection import cross_validate, KFold\n",
    "from sklearn.linear_model import LogisticRegression\n",
    "from sklearn.ensemble import RandomForestClassifier\n",
    "from sklearn.naive_bayes import GaussianNB\n",
    "from sklearn.compose import ColumnTransformer\n",
    "from sklearn.preprocessing import StandardScaler\n",
    "from sklearn.neighbors import KNeighborsClassifier\n",
    "from sklearn.pipeline import Pipeline\n",
    "from src.pipe_store import sklearn_adapter\n",
    "random_state = 42\n",
    "\n",
    "X, y = sklearn_adapter(df_cox, label='event')\n",
    "# regs = [ LogisticRegression(), RandomForestClassifier()]\n",
    "X.drop('churn_time', axis=1, inplace=True)\n",
    "regs =  [ LogisticRegression(), RandomForestClassifier(), GaussianNB()]\n",
    "\n",
    "num_cols = ['CROSS_SELL_SCORE']\n",
    "column_transformer_scaler = ColumnTransformer([\n",
    "    ('Scaler', StandardScaler(), num_cols), \n",
    "], remainder='passthrough')\n",
    "\n",
    "results = {}\n",
    "for reg in regs:\n",
    "\n",
    "    pipeline = Pipeline([\n",
    "        ('scaler', column_transformer_scaler),\n",
    "        ('Model', reg),\n",
    "    ], verbose=False)\n",
    "\n",
    "    kfs = KFold(n_splits=5, shuffle=True)\n",
    "    # For the list of all metrics visit: https://scikit-learn.org/stable/modules/model_evaluation.html\n",
    "    metrics = ['recall', 'precision', 'roc_auc', 'accuracy', 'f1'] \n",
    "    scores = cross_validate(pipeline, X, y, cv=kfs, scoring=metrics)\n",
    "    # We will not use cross_val_score as it can only accept one metric\n",
    "    # print(scores)\n",
    "    reg_name = type(reg).__name__\n",
    "    results[reg_name] = {key: round(np.mean(val), 3) for key, val in scores.items()}\n",
    "pd.DataFrame(results).T"
   ]
  },
  {
   "cell_type": "code",
   "execution_count": null,
   "metadata": {},
   "outputs": [],
   "source": [
    "from sklearn.model_selection import train_test_split\n",
    "X, y = sklearn_adapter(df_cox, label='event')\n",
    "X.drop('churn_time', axis=1, inplace=True)\n",
    "X_train, X_test, y_train, y_test = train_test_split(X, y, test_size=0.25, shuffle=True)\n",
    "clf = GaussianNB() # LogisticRegression() #GaussianNB()\n",
    "pipeline = Pipeline([\n",
    "    ('scaler', column_transformer_scaler),\n",
    "    ('Model', clf),\n",
    "], verbose=False)\n",
    "\n",
    "pipeline.fit(X_train, y_train)"
   ]
  },
  {
   "cell_type": "markdown",
   "metadata": {},
   "source": [
    "# Model Evaluation"
   ]
  },
  {
   "cell_type": "code",
   "execution_count": null,
   "metadata": {},
   "outputs": [],
   "source": [
    "from src.model_evaluation import (\n",
    "    plot_roc_curve,\n",
    "    plot_confusion_matrix,\n",
    "    plot_precision_recall_curve,\n",
    "    print_scores,\n",
    ")\n",
    "\n",
    "from sklearn.model_selection import train_test_split\n",
    "X, y = sklearn_adapter(df_cox, label='event')\n",
    "X.drop('churn_time', axis=1, inplace=True)\n",
    "X_train, X_test, y_train, y_test = train_test_split(X, y, test_size=0.25, shuffle=True)\n",
    "clf = GaussianNB() # LogisticRegression() #GaussianNB()\n",
    "pipeline = Pipeline([\n",
    "    ('scaler', column_transformer_scaler),\n",
    "    ('Model', clf),\n",
    "], verbose=False)\n",
    "\n",
    "pipeline.fit(X_train, y_train)\n",
    "\n",
    "plot_confusion_matrix(pipeline, X_train, y_train)\n",
    "fig, ax = plt.subplots(1,2, figsize=(11, 4))\n",
    "plot_precision_recall_curve(pipeline, X_train, y_train, ax[0])\n",
    "plot_roc_curve(pipeline, X_train, y_train, ax[1])\n",
    "print_scores(pipeline, X_test, y_test)"
   ]
  },
  {
   "cell_type": "code",
   "execution_count": null,
   "metadata": {},
   "outputs": [],
   "source": [
    "plot_confusion_matrix(pipeline, X_test, y_test)\n",
    "print_scores(pipeline, X_test, y_test)\n",
    "fig, ax = plt.subplots(1,2, figsize=(10, 4))\n",
    "plot_roc_curve(pipeline, X_test, y_test, ax[0])\n",
    "plot_precision_recall_curve(pipeline, X_test, y_test, ax[1])\n"
   ]
  },
  {
   "cell_type": "code",
   "execution_count": null,
   "metadata": {},
   "outputs": [],
   "source": [
    "# from src.model_evaluation import plot_calibration\n",
    "# plot_calibration(pipeline, X_test, y_test, n_bins=5, strategy='uniform')"
   ]
  },
  {
   "cell_type": "code",
   "execution_count": null,
   "metadata": {},
   "outputs": [],
   "source": [
    "\n",
    "# forest_importances = pd.Series(rcf.feature_importances_, index=X.columns)\n",
    "\n",
    "# fig, ax = plt.subplots()\n",
    "# forest_importances.plot.bar( ax=ax)\n",
    "# ax.set_title(\"Feature importances using MDI\")\n",
    "# ax.set_ylabel(\"Mean decrease in impurity\")\n",
    "# fig.tight_layout()"
   ]
  },
  {
   "cell_type": "code",
   "execution_count": null,
   "metadata": {},
   "outputs": [],
   "source": [
    "X"
   ]
  },
  {
   "cell_type": "code",
   "execution_count": null,
   "metadata": {},
   "outputs": [],
   "source": []
  }
 ],
 "metadata": {
  "kernelspec": {
   "display_name": "Python 3.8.6 ('ml-bnfBc1U0')",
   "language": "python",
   "name": "python3"
  },
  "language_info": {
   "codemirror_mode": {
    "name": "ipython",
    "version": 3
   },
   "file_extension": ".py",
   "mimetype": "text/x-python",
   "name": "python",
   "nbconvert_exporter": "python",
   "pygments_lexer": "ipython3",
   "version": "3.8.6"
  },
  "orig_nbformat": 4,
  "vscode": {
   "interpreter": {
    "hash": "59fb0072ca45ddf16b4382c85a05d230ce260441c2c9c82e08dc46b2cdcf4637"
   }
  }
 },
 "nbformat": 4,
 "nbformat_minor": 2
}
